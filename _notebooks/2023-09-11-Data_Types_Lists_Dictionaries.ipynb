{
 "cells": [
  {
   "cell_type": "markdown",
   "metadata": {},
   "source": [
    "---\n",
    "toc: true\n",
    "comments: false\n",
    "layout: post\n",
    "title: Python Data Types, Lists, and Dictionaries\n",
    "tags: [hacks]\n",
    "categories: [CSP, Week 4] \n",
    "---"
   ]
  },
  {
   "cell_type": "markdown",
   "metadata": {},
   "source": [
    "### InfoDB"
   ]
  },
  {
   "cell_type": "code",
   "execution_count": null,
   "metadata": {},
   "outputs": [],
   "source": [
    "# Define an empty List called InfoDb\n",
    "InfoDb = []\n",
    "\n",
    "# InfoDB is a data structure with expected Keys and Values\n",
    "\n",
    "# Append to List a Dictionary of key/values related to a person and cars\n",
    "InfoDb.append({\n",
    "    \"FirstName\": \"Akhil\",\n",
    "    \"LastName\": \"Singamnenni\",\n",
    "    \"DOB\": \"August 25\",\n",
    "    \"Residence\": \"San Diego\",\n",
    "    \"Email\": \"akhils@gmail.com\",\n",
    "})\n",
    "\n",
    "# Append to List a 2nd Dictionary of key/values\n",
    "InfoDb.append({\n",
    "    \"FirstName\": \"Advik\",\n",
    "    \"LastName\": \"Garg\",\n",
    "    \"DOB\": \"March 11\",\n",
    "    \"Residence\": \"8459 The Landing Way\",\n",
    "    \"Email\": \"advikg.sd@gmail.com\",\n",
    "})\n",
    "\n",
    "# Append to List a 2nd Dictionary of key/values\n",
    "InfoDb.append({\n",
    "    \"FirstName\": \"William\",\n",
    "    \"LastName\": \"Cheng\",\n",
    "    \"DOB\": \"November 27\",\n",
    "    \"Residence\": \"15543 New Park Terrace\",\n",
    "    \"Email\": \"funnykidland@gmail.com\",\n",
    "})\n",
    "\n",
    "# Print the data structure\n",
    "print(InfoDb)\n"
   ]
  },
  {
   "cell_type": "markdown",
   "metadata": {},
   "source": [
    "<hr style=\"solid\">\n",
    "\n",
    "### For Loop With Index"
   ]
  },
  {
   "cell_type": "code",
   "execution_count": null,
   "metadata": {},
   "outputs": [],
   "source": [
    "# code"
   ]
  },
  {
   "cell_type": "markdown",
   "metadata": {},
   "source": [
    "<hr style=\"solid\">\n",
    "\n",
    "### Pair Share Code"
   ]
  },
  {
   "cell_type": "code",
   "execution_count": null,
   "metadata": {},
   "outputs": [],
   "source": [
    "# Define an empty List called database\n",
    "database = []\n",
    "\n",
    "profileCount = input(\"How many profiles to add?\") # profiles to add\n",
    "\n",
    "for i in range(int(profileCount)): # iterate thru num of profiles to add\n",
    "    # data collection\n",
    "    firstName = input(\"First name: \")\n",
    "    lastName = input(\"Last name: \")\n",
    "    dob = input(\"Date of birth: \")\n",
    "    residence = input(\"Residence: \")\n",
    "    email = input(\"Email: \")\n",
    "    \n",
    "    # appending data\n",
    "    database.append({\n",
    "        firstName: firstName,\n",
    "        lastName: lastName,\n",
    "        dob: dob,\n",
    "        residence: residence,\n",
    "        email: email,\n",
    "    })\n",
    "\n",
    "for i in range(int(profileCount)): # iterate thru num of profiles available\n",
    "    # printing everything\n",
    "    print(\"> \" + database[i][firstName] + \" \" + database[i][lastName] + \":\")\n",
    "    print(\"| DOB: \" + database[i][dob])\n",
    "    print(\"| Residence: \" + database[i][residence])\n",
    "    print(\"| Email: \" + database[i][email])\n",
    "    print()"
   ]
  }
 ],
 "metadata": {
  "kernelspec": {
   "display_name": "Python 3",
   "language": "python",
   "name": "python3"
  },
  "language_info": {
   "codemirror_mode": {
    "name": "ipython",
    "version": 3
   },
   "file_extension": ".py",
   "mimetype": "text/x-python",
   "name": "python",
   "nbconvert_exporter": "python",
   "pygments_lexer": "ipython3",
   "version": "3.10.12"
  },
  "orig_nbformat": 4
 },
 "nbformat": 4,
 "nbformat_minor": 2
}
