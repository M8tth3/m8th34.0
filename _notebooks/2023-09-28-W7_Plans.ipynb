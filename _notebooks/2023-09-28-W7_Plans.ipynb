{
 "cells": [
  {
   "cell_type": "markdown",
   "metadata": {},
   "source": [
    "---\n",
    "toc: true\n",
    "comments: true\n",
    "layout: post\n",
    "title: Week 7 Plans\n",
    "tags: [plans]\n",
    "categories: [CSP, Week 7] \n",
    "---\n",
    "\n",
    "### Todo\n",
    "\n",
    "- [x] CSP lesson (CB)\n",
    "  - [x] 3.1 Variables & assignments\n",
    "    - [x] Video 1\n",
    "      - [x] Lesson\n",
    "    - [x] Video 2\n",
    "      - [x] Lesson\n",
    "  - [x] 3.2 Data abstraction\n",
    "    - [x] Video 1\n",
    "      - [x] Lesson\n",
    "    - [x] Video 2\n",
    "      - [x] Lesson\n",
    "    - [x] Video 3\n",
    "      - [x] Lesson\n",
    "- [x] CSP Lesson what to include\n",
    "  - [x] Naming conventions for variables\n",
    "  - [x] Differenes between primitive data dype & collection type\n",
    "  - [x] Examples w/lists & dictionaries as collections of all data types\n",
    "  - [x] Output concatenation & formatting\n",
    "  - [x] Conversions of data types: from and to JSON\n",
    "  - [x] Overview of python data types & CB pseudo code\n",
    "  - [x] Popcorn hacks & homework hacks\n",
    "    - [x] Popcorn -> small \"try this right now at home folks\" thing\n",
    "    - [x] Homework -> larger \"good job learning \"X\" now apply it!\"\n",
    "  - [x] Finish the code\n",
    "  - [x] Explanations\n",
    "  - [x] Examples"
   ]
  }
 ],
 "metadata": {
  "language_info": {
   "name": "python"
  },
  "orig_nbformat": 4
 },
 "nbformat": 4,
 "nbformat_minor": 2
}
