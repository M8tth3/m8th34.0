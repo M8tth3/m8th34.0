{
 "cells": [
  {
   "cell_type": "markdown",
   "metadata": {},
   "source": [
    "---\n",
    "toc: true\n",
    "comments: false\n",
    "layout: post\n",
    "title: Week 1 Plans\n",
    "tags: [plans]\n",
    "categories: [CSP, Week 1] \n",
    "---"
   ]
  },
  {
   "cell_type": "markdown",
   "metadata": {},
   "source": [
    "### Todo\n",
    "\n",
    "- [x] Finish the python IO hack\n",
    "  - [x] Python teacher code optimization\n",
    "  - [x] Customize to include your own questions\n",
    "- [x] Finish the linux blog hack\n",
    "- [x] Finish github pages style hack\n",
    "  - [x] Custom styling\n",
    "    - [x] Finish nav bar (links) animations\n",
    "    - [x] Finish page transition animation (fade)\n",
    "- [ ] IPYNB Table, Code\n",
    "- [x] Transfer all .md files to .ipynb (notebook)"
   ]
  }
 ],
 "metadata": {
  "language_info": {
   "name": "python"
  },
  "orig_nbformat": 4
 },
 "nbformat": 4,
 "nbformat_minor": 2
}
