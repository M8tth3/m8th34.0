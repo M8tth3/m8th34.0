{
 "cells": [
  {
   "cell_type": "markdown",
   "metadata": {},
   "source": [
    "---\n",
    "title: Unified Post\n",
    "categories: [CSP, Week 21] # choose your category. usually: [CSP, Week #]\n",
    "tags: [hacks] # tags go here (MUST BE LOWERCASE)\n",
    "---"
   ]
  },
  {
   "cell_type": "markdown",
   "metadata": {},
   "source": [
    "This is a blog post which unifies all other issues, posts, etc. related to the AP CSP tri 2.\n",
    "\n",
    "### Warm-up\n",
    "[CPT Warmup](https://github.com/Napoleon-Bonaparte-Official/corsica-blog/issues/2)\n",
    "\n",
    "### Student Teaching\n",
    "[Student Teaching Part 2 + Key Indicators](https://kinetekenergy.github.io/blog/posts/Individual_Review_IPYNB_2_/)\n",
    "\n",
    "### Spot Checks & N@TM\n",
    "[CSP Spot Check #1 (database, postman, cookies) #105](https://github.com/nighthawkcoders/teacher_portfolio/issues/105#issuecomment-1920189479)\n",
    "\n",
    "[CSP Spot Check #2 (login, roles, CRUD) #107](https://github.com/nighthawkcoders/teacher_portfolio/issues/107#issuecomment-1947514707)\n",
    "\n",
    "[CSP Night at the Museum 6-9pm](https://github.com/nighthawkcoders/teacher_portfolio/issues/108#issuecomment-1949483129)\n",
    "\n",
    "### Final\n",
    "[CSP Final](https://kinetekenergy.github.io/blog/posts/CSP-Final_IPYNB_2_/)"
   ]
  }
 ],
 "metadata": {
  "language_info": {
   "name": "python"
  }
 },
 "nbformat": 4,
 "nbformat_minor": 2
}
