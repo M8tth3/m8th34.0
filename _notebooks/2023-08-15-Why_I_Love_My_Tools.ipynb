{
 "cells": [
  {
   "cell_type": "markdown",
   "metadata": {},
   "source": [
    "---\n",
    "toc: true\n",
    "comments: true\n",
    "title: Why I ❤️ my tools.\n",
    "type: hacks\n",
    "categories: [CSP, Week 1]\n",
    "tags: [first-post]\n",
    "---"
   ]
  },
  {
   "cell_type": "markdown",
   "metadata": {},
   "source": [
    "\n",
    "### Why do I love my tools?\n",
    "\n",
    "It's simple! A builder can't build a house without his hammer, can he? So how should a programmer be able to make programs without the proper tools?\n",
    "One thing that makes humans distinct from other animals is our use of tools. If I were to fight a bear, I'd probably lose. But give me a weapon (which counts\n",
    "as a tool), and it would make things a whole lot easier.\n",
    "\n",
    "Tools simplify things. They make something that's hard become easy! Why would you not want that!\n",
    "\n",
    "### Know your tools\n",
    "\n",
    "It's one thing to love your tools. But it's another to know how they work.\n",
    "\n",
    "You won't be able to use the full potential of your tool if you don't have a deep understanding of it. A builder may have a hammer, but do they know how to use it?\n",
    "The easiest way to know your tool is to use it! And it's especially easy for programmers because of this neat thing called ✨ Google ✨\n"
   ]
  }
 ],
 "metadata": {
  "language_info": {
   "name": "python"
  },
  "orig_nbformat": 4
 },
 "nbformat": 4,
 "nbformat_minor": 2
}
