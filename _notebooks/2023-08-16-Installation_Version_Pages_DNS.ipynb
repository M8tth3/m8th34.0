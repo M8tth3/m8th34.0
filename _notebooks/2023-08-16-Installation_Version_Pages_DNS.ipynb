{
 "cells": [
  {
   "cell_type": "markdown",
   "metadata": {},
   "source": [
    "---\n",
    "toc: true\n",
    "comments: true\n",
    "layout: post\n",
    "title: Installations, Version Control, GitHub Pages, & DNS 📥\n",
    "tags: [hacks]\n",
    "categories: [CSP, Week 1]\n",
    "---"
   ]
  },
  {
   "cell_type": "markdown",
   "metadata": {},
   "source": [
    "\n",
    "### Installation\n",
    "\n",
    "- `ls`\n",
    "  - List files in a directory\n",
    "- `git`\n",
    "  - `git clone <link>`\n",
    "  - Makes a clone of a repository (code database)\n",
    "- `apt`\n",
    "  - Package manager for linux\n",
    "- `cd`\n",
    "  - Change directory\n",
    "  - Change the directory that you're in\n",
    "- `wsl --install`\n",
    "  - Install Windows Subsystem for Linux\n",
    "  - Integration with Linux and Windows\n",
    "  - Must use Admin Powershell to install.\n",
    "\n",
    "### Version Control\n",
    "\n",
    "Version control makes it easy for multiple programmers to work together without breaking stuff.\n",
    "\n",
    "- Local files are kept on your machine\n",
    "  - Use the terminal or GUI to navigate these files\n",
    "- When you're ready to upload your changes, you can push your changes to the cloud\n",
    "  - In the cloud, you can use the website to navigate through files\n",
    "- To update your Template or Fork, you can use the Sync button and select it to sync a fork\n",
    "\n",
    "### GitHub Pages\n",
    "\n",
    "Running a site on a localhost machine means that it's not accessible via the web, so you'll need a deployed server. Well an easy way to do this is via GitHub Pages, a service offered by GitHub to host your website code.\n",
    "\n",
    "- Localhost URL\n",
    "  - The IP address of your local machine\n",
    "  - Not viewable to the public\n",
    "- GitHub Pages URL\n",
    "  - A public URL that anyone can see and use to access the deployed server (which hosts your website)\n",
    "\n",
    "Use GitHub pages to host your site!\n",
    "\n",
    "### DNS\n",
    "\n",
    "You can change the domain for your website via Route 53 OR GitHub pages. Note that you can only change the domain NAME, not the address.\\\n",
    "\\\n",
    "For example, let's say we have a street with some houses on it. Each house has a special address to identify it. Let's say that you live on 16960 Debium Street, and your friend Bob lives on 10540 Ubuntius Court. Instead of saying \"I went to 10540 Ubuntius Court yesterday,\" you can say \"I went to Bob's house yesterday.\"\\\n",
    "\\\n",
    "In this case, 10540 Ubuntius Court is the domain address. It's specific, but long.\\\n",
    "\\\n",
    "\"Bob's place\" would be the domain name. Easy to remember, and it refers to his real address: 10540 Ubuntius Court.\n"
   ]
  }
 ],
 "metadata": {
  "language_info": {
   "name": "python"
  },
  "orig_nbformat": 4
 },
 "nbformat": 4,
 "nbformat_minor": 2
}
