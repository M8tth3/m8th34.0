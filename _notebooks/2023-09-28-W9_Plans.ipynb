{
 "cells": [
  {
   "cell_type": "markdown",
   "metadata": {},
   "source": [
    "---\n",
    "toc: true\n",
    "comments: true\n",
    "layout: post\n",
    "title: Week 9 Plans\n",
    "tags: [plans]\n",
    "categories: [CSP, Week 9] \n",
    "---\n",
    "\n",
    "### Todo\n",
    "\n",
    "- [x] Finish the algorithms notebook\n",
    "- [x] Finish the list and operations notebook\n",
    "  - [x] Binary search researh\n",
    "  - [x] Fix the song issues\n",
    "    - [x] Grammar should be based off of the number\n",
    "    - [x] Work with any number\n",
    "- [x] API Stuff\n",
    "  - [x] Fetching data from backend\n",
    "    - [x] Cookie catalog from backend\n",
    "  - [x] Add to cart section\n",
    "    - [x] Submitting data\n",
    "    - [x] Form for checkout\n",
    "      - [x] All fields"
   ]
  }
 ],
 "metadata": {
  "language_info": {
   "name": "python"
  },
  "orig_nbformat": 4
 },
 "nbformat": 4,
 "nbformat_minor": 2
}
