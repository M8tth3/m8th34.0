{
 "cells": [
  {
   "cell_type": "markdown",
   "metadata": {},
   "source": [
    "---\n",
    "title: Night at the Museum\n",
    "categories: [CSP, Week 20] # choose your category. usually: [CSP, Week #]\n",
    "tags: [hacks] # tags go here (MUST BE LOWERCASE)\n",
    "---\n"
   ]
  },
  {
   "cell_type": "markdown",
   "metadata": {},
   "source": [
    "# The Project\n",
    "\n",
    "\n",
    "### Glows/Grows\n",
    "\n",
    "\n",
    "\n",
    "* Glow\n",
    "    * One glow is that we showed all the features from the demo. For example, we demoed the login function and the user system as well as the database. We then showed how the project pulls videos from the backend to display them on the home page. And afterwards, we showed the upload feature and how someone can create the video. Lastly, we demoed how each video has its own metadata which is displayed. For example, the user who logged in and created the video will be shown underneath the video title (their username). Their description will also appear. And the view count of the video updates whenever someone views the video.\n",
    "* Grow\n",
    "    * One grow is that we should have been more prepared for the upload demo. We didn’t have many test videos to use (only 2) and not enough images to upload (each video has a thumbnail and you upload an image for that). Because of that, we ended up reusing videos and thumbnails over and over. We _did_ change the title of the video so that you could see that it’s a new video being uploaded. But visually, it’s hard to tell.\n",
    "\n",
    "\n",
    "### Feedback - Things to Add\n",
    "\n",
    "Something we have thought about adding is a like and dislike feature so that people can rate how good or bad a video is. Another feature could be a comment system but this could add a lot of complexity to our project. However, a feature we are seriously considering are channel pages. You could view videos that certain users posted and see their channel.\n",
    "\n",
    "\n",
    "### Other People’s Work\n",
    "\n",
    "![workers](images/workers.JPG)\n",
    "\n",
    "![chatbot](images/chatbot.JPG)\n",
    "\n",
    "![twitter](images/twitter.JPG)\n",
    "\n",
    "\n",
    "# The Event\n",
    "\n",
    "\n",
    "### Something I Was Impressed By\n",
    "\n",
    "Something I was impressed by was Hanlun’s project of a baking simulator. It allowed you to combine four different ingredients in an oven and hit the bake button. You could earn points based on the combination of ingredients. Also, there are over forty different combinations of ingredients that make something and each earns a different score. So you should try as many combinations as possible to get the highest score.\n",
    "\n",
    "![oven](images/oven.JPG)\n",
    "\n",
    "![baking](images/baking.JPG)\n",
    "\n",
    "![congrats](images/congrats.JPG)\n",
    "\n",
    "\n",
    "### Something Outside\n",
    "\n",
    "Something outside of compsci that I liked were the 3D animation projects. I saw Aidan Lau's donut that he created for 3D animation and I found it interesting. I also liked his scene that he did for the project. I think the lighting is really realistic and I also like how detailed certain objects are like the doors and cabinets. I also liked how the background (behind the sliding door) is an actual image and is distorted because of how the glass bends the light. It is also slightly blurred so it's not the focus of the image. Overall, great work!\n",
    "\n",
    "![Animation](images/animation.jpg)"
   ]
  }
 ],
 "metadata": {
  "kernelspec": {
   "display_name": "Python 3",
   "language": "python",
   "name": "python3"
  },
  "language_info": {
   "name": "python",
   "version": "3.10.12"
  }
 },
 "nbformat": 4,
 "nbformat_minor": 2
}
