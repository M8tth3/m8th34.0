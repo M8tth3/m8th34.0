{
 "cells": [
  {
   "cell_type": "markdown",
   "metadata": {},
   "source": [
    "---\n",
    "toc: true\n",
    "comments: false\n",
    "layout: post\n",
    "title: Week 3 Review\n",
    "tags: [tangibles]\n",
    "categories: [CSP, Week 3] \n",
    "---"
   ]
  },
  {
   "cell_type": "markdown",
   "metadata": {},
   "source": [
    "### Python Project\n",
    "\n",
    "For the Python project, I decided to code facial recognition as well as an eye tracker which can export the coordinates of someone's eyes in the frame as coordinate points. Using one-shot deep learning, this code is able to recognize faces using only a single image allowing you to not have to require a large training set. This saves a lot of time but may come at the cost of accuracy (which can be seen if you demo the code and change the lighting or angle).\n",
    "\n",
    "### Linux Project\n",
    "\n",
    "For the Linux project, I decided to solve the problem of files having insecure permissions allowing hackers to gain control of a system using compromised files. The solution is a script which can fix the file ownership as well as file permissions ensuring that only those who need access to the file have it.\n",
    "\n",
    "### Javascript Project\n",
    "\n",
    "For the Javascript project, I chose to create a todo list which allows you to add, delete, and edit tasks. It is able to help you keep track of important things. It uses event listeners to listen to button clicks and does things accordingly. It also has a confirmation prompt for deleting a task. \n"
   ]
  }
 ],
 "metadata": {
  "language_info": {
   "name": "python"
  },
  "orig_nbformat": 4
 },
 "nbformat": 4,
 "nbformat_minor": 2
}
