{
 "cells": [
  {
   "cell_type": "markdown",
   "metadata": {},
   "source": [
    "---\n",
    "toc: true\n",
    "comments: false\n",
    "layout: post\n",
    "title: Web Programming Basics\n",
    "tags: [hacks]\n",
    "categories: [CSP, Week 6] \n",
    "---\n",
    "\n",
    "### HTML\n",
    "\n",
    "Wireframe:\n",
    "\n",
    "![Wireframe](images/Wireframe.png \"Wireframe\")"
   ]
  },
  {
   "cell_type": "code",
   "execution_count": null,
   "metadata": {
    "vscode": {
     "languageId": "html"
    }
   },
   "outputs": [],
   "source": [
    "%%html\n",
    "\n",
    "<!DOCTYPE html>\n",
    "<html lang=\"en\">\n",
    "\n",
    "<head>\n",
    "    <meta charset=\"UTF-8\">\n",
    "    <meta name=\"viewport\" content=\"width=device-width, initial-scale=1.0\">\n",
    "    <title>Page</title>\n",
    "</head>\n",
    "\n",
    "<body>\n",
    "    <div>\n",
    "        <img src=\"W2W.png\" alt=\"Window to the World Image\">\n",
    "        <div>\n",
    "            <p>\n",
    "                This image depicts a pier in the ocean.\n",
    "                The image was taken using a long exposure and high f stop.\n",
    "                The weather in the image is cloudy and the waves are calm.\n",
    "                The pier is made up of concrete.\n",
    "            </p>\n",
    "            <a href=\"https://www.pixelpotpourri.com/Galleries/Oceans/i-cNg27wP\">\n",
    "                <button>\n",
    "                    Link to image source\n",
    "                </button>\n",
    "            </a>\n",
    "        </div>\n",
    "    </div>\n",
    "</body>\n",
    "\n",
    "</html>"
   ]
  },
  {
   "cell_type": "markdown",
   "metadata": {},
   "source": [
    "<hr style=\"solid\">\n",
    "\n",
    "### Datatypes"
   ]
  },
  {
   "cell_type": "code",
   "execution_count": null,
   "metadata": {
    "vscode": {
     "languageId": "javascript"
    }
   },
   "outputs": [],
   "source": [
    "%%js\n",
    "\n",
    "// Create an object representing myself\n",
    "var obj = {\n",
    "    name: \"Aashray\",\n",
    "    age: 15,\n",
    "    currentClasses: [\"Humanities, CSP, World, Math, Spanish\"],\n",
    "    interests: \"Drinking water\",\n",
    "    favoriteStateOfMaterForWater: \"Liquid\",\n",
    "    favoriteWaterFlavor: \"Water\"\n",
    "\n",
    "};\n",
    "\n",
    "// Print the entire object\n",
    "console.log(obj);\n",
    "\n",
    "// Manipulate the arrays within the object\n",
    "console.log(\"Object: manipulating data\");\n",
    "obj.currentClasses[0] = \"Water Drinking\"\n",
    "console.log(obj);\n",
    "console.log(obj.currentClasses[0]);\n",
    "\n",
    "// Perform mathematical operations on fields in the object\n",
    "const ageIn5 = obj.age + 5;\n",
    "console.log(`\\nIn five years, I will be ${ageIn5} years old.`);\n",
    "\n",
    "// Use typeof to determine the types of fields\n",
    "console.log(`\\nData Types:`);\n",
    "console.log(`Name is of type: ${typeof obj.name}`);\n",
    "console.log(`Age is of type: ${typeof obj.age}`);\n",
    "console.log(`Current Classes is of type: ${typeof obj.currentClasses}`);"
   ]
  },
  {
   "cell_type": "markdown",
   "metadata": {},
   "source": [
    "<hr style=\"solid\">\n",
    "\n",
    "### DOM"
   ]
  },
  {
   "cell_type": "code",
   "execution_count": null,
   "metadata": {
    "vscode": {
     "languageId": "html"
    }
   },
   "outputs": [],
   "source": [
    "%%html\n",
    "\n",
    "<!DOCTYPE html>\n",
    "<html lang=\"en\">\n",
    "\n",
    "<head>\n",
    "    <meta charset=\"UTF-8\">\n",
    "    <meta name=\"viewport\" content=\"width=device-width, initial-scale=1.0\">\n",
    "    <title>Page</title>\n",
    "</head>\n",
    "\n",
    "<body>\n",
    "    <div>\n",
    "        <img src=\"W2W.png\" alt=\"Window to the World Image\">\n",
    "        <div>\n",
    "\n",
    "            <!-- switch status -->\n",
    "            <p id=\"status\">Not switched!</p>\n",
    "\n",
    "            <!-- dummy text -->\n",
    "            <p>\n",
    "                This image depicts a pier in the ocean.\n",
    "                The image was taken using a long exposure and high f stop.\n",
    "                The weather in the image is cloudy and the waves are calm.\n",
    "                The pier is made up of concrete.\n",
    "            </p>\n",
    "\n",
    "            <!-- image source button -->\n",
    "            <a href=\"https://www.pixelpotpourri.com/Galleries/Oceans/i-cNg27wP\" id=\"imageButton\">\n",
    "                <button>Link to image source</button>\n",
    "            </a>\n",
    "\n",
    "            <!-- NOT image source button (google) -->\n",
    "            <a href=\"https://www.google.com/\" id=\"googleButton\">\n",
    "                <button>Not the image source</button>\n",
    "            </a>\n",
    "\n",
    "            <!-- switch button -->\n",
    "            <button id=\"switchButton\">One Two Switch-a-roo</button>\n",
    "        </div>\n",
    "    </div>\n",
    "</body>\n",
    "\n",
    "<script>\n",
    "\n",
    "    function switchLink() { // switch function\n",
    "        var imageButton = document.getElementById(\"imageButton\"); // get button\n",
    "        var googleButton = document.getElementById(\"googleButton\"); // get button\n",
    "        var status = document.getElementById(\"status\"); // get status p tag\n",
    "\n",
    "        var tempLink = imageButton.getAttribute(\"href\"); // store link of image button in temp var\n",
    "\n",
    "        imageButton.setAttribute(\"href\", googleButton.getAttribute(\"href\")); // set image button to google button link \n",
    "        googleButton.setAttribute(\"href\", tempLink); // set google button to temp link (image button link)\n",
    "\n",
    "        status.textContent = \"Switched!\"; // change p tag status\n",
    "    }\n",
    "\n",
    "    var switchButton = document.getElementById(\"switchButton\"); // get switch button\n",
    "    switchButton.addEventListener(\"click\", switchLink); // event listener for click; call funcion\n",
    "</script>\n",
    "\n",
    "</html>"
   ]
  },
  {
   "cell_type": "markdown",
   "metadata": {},
   "source": [
    "<hr style=\"solid\">\n",
    "\n",
    "### JS"
   ]
  },
  {
   "cell_type": "code",
   "execution_count": null,
   "metadata": {
    "vscode": {
     "languageId": "javascript"
    }
   },
   "outputs": [],
   "source": [
    "%% js\n",
    "\n",
    "// vars\n",
    "var a = 1;\n",
    "var b = 2;\n",
    "\n",
    "// comparison logic code + log output\n",
    "if (a > b) {\n",
    "    console.log(\"a > b\");\n",
    "}\n",
    "else if (a < b) {\n",
    "    console.log(\"a < b\");\n",
    "}\n",
    "else {\n",
    "    console.log(\"a == b\");\n",
    "}"
   ]
  },
  {
   "cell_type": "markdown",
   "metadata": {},
   "source": [
    "<hr style=\"solid\">\n",
    "\n",
    "### Debug I"
   ]
  },
  {
   "cell_type": "code",
   "execution_count": null,
   "metadata": {
    "vscode": {
     "languageId": "javascript"
    }
   },
   "outputs": [],
   "source": [
    "%% js\n",
    "\n",
    "var alphabet = \"abcdefghijklmnopqrstuvwxyz\";\n",
    "var alphabetList = [];\n",
    "\n",
    "for (var i = 0; i < 10; i++) {\n",
    "    alphabetList.push(i);\n",
    "}\n",
    "\n",
    "console.log(alphabetList);\n"
   ]
  },
  {
   "cell_type": "code",
   "execution_count": null,
   "metadata": {
    "vscode": {
     "languageId": "javascript"
    }
   },
   "outputs": [],
   "source": [
    "%%js\n",
    "\n",
    "var alphabet = \"abcdefghijklmnopqrstuvwxyz\";\n",
    "var alphabetList = [];\n",
    "\n",
    "for (var i = 0; i < alphabet.length; i++) {\n",
    "    alphabetList.push(alphabet[i]);\n",
    "}\n",
    "\n",
    "console.log(alphabetList);"
   ]
  },
  {
   "cell_type": "markdown",
   "metadata": {},
   "source": [
    "Code was pushing number to the alphabet list. Changed so that it fetches from alphabet array and pushes that instead."
   ]
  },
  {
   "cell_type": "markdown",
   "metadata": {},
   "source": [
    "<hr style=\"solid\">\n",
    "\n",
    "### Debug II"
   ]
  },
  {
   "cell_type": "code",
   "execution_count": null,
   "metadata": {
    "vscode": {
     "languageId": "javascript"
    }
   },
   "outputs": [],
   "source": [
    "%% js\n",
    "\n",
    "var alphabet = \"abcdefghijklmnopqrstuvwxyz\";\n",
    "var alphabetList = [];\n",
    "\n",
    "for (var i = 0; i < alphabet.length; i++) {\n",
    "    alphabetList.push(alphabet[i]);\n",
    "}\n",
    "\n",
    "console.log(alphabetList);\n",
    "\n",
    "let letterNumber = 5\n",
    "\n",
    "for (var i = 0; i < alphabetList; i++) {\n",
    "    if (i === letterNumber) {\n",
    "        console.log(letterNumber + \" is letter number 1 in the alphabet\")\n",
    "    }\n",
    "}\n",
    "\n",
    "// Should output:\n",
    "// \"e\" is letter number 5 in the alphabet"
   ]
  },
  {
   "cell_type": "code",
   "execution_count": null,
   "metadata": {
    "vscode": {
     "languageId": "javascript"
    }
   },
   "outputs": [],
   "source": [
    "%%js\n",
    "\n",
    "var alphabet = \"abcdefghijklmnopqrstuvwxyz\";\n",
    "var alphabetList = [];\n",
    "\n",
    "for (var i = 0; i < alphabet.length; i++) {\n",
    "    alphabetList.push(alphabet[i]);\n",
    "}\n",
    "\n",
    "console.log(alphabetList);\n",
    "\n",
    "let letterNumber = 5\n",
    "\n",
    "for (var j = 0; j < letterNumber; j++) {\n",
    "    if (alphabetList[j] === \"e\") {\n",
    "        console.log(alphabetList[j] + \" is letter number 5 in the alphabet\")\n",
    "    }\n",
    "}"
   ]
  },
  {
   "cell_type": "markdown",
   "metadata": {},
   "source": [
    "1. For loop now iterates letterNumber times\n",
    "2. For loop uses j instead of i\n",
    "3. For loop checks current letter for match with e\n",
    "4. Log now prints the letter and the correct number"
   ]
  },
  {
   "cell_type": "markdown",
   "metadata": {},
   "source": [
    "<hr style=\"solid\">\n",
    "\n",
    "### Debug III"
   ]
  },
  {
   "cell_type": "code",
   "execution_count": null,
   "metadata": {
    "vscode": {
     "languageId": "javascript"
    }
   },
   "outputs": [],
   "source": [
    "%%js\n",
    "\n",
    "let evens = [];\n",
    "let i = 0;\n",
    "\n",
    "while (i <= 10) {\n",
    "    evens.push(i);\n",
    "    i += 2;\n",
    "}\n",
    "\n",
    "console.log(evens);"
   ]
  },
  {
   "cell_type": "code",
   "execution_count": null,
   "metadata": {
    "vscode": {
     "languageId": "javascript"
    }
   },
   "outputs": [],
   "source": [
    "%%js\n",
    "\n",
    "let evens = [];\n",
    "let i = 1;\n",
    "\n",
    "while (i <= 10) {\n",
    "    evens.push(i);\n",
    "    i += 2;\n",
    "}\n",
    "\n",
    "console.log(evens);"
   ]
  },
  {
   "cell_type": "markdown",
   "metadata": {},
   "source": [
    "Changed i to 1 to offset list and print odds."
   ]
  }
 ],
 "metadata": {
  "kernelspec": {
   "display_name": "Python 3",
   "language": "python",
   "name": "python3"
  },
  "language_info": {
   "codemirror_mode": {
    "name": "ipython",
    "version": 3
   },
   "file_extension": ".py",
   "mimetype": "text/x-python",
   "name": "python",
   "nbconvert_exporter": "python",
   "pygments_lexer": "ipython3",
   "version": "3.10.12"
  },
  "orig_nbformat": 4
 },
 "nbformat": 4,
 "nbformat_minor": 2
}
