{
 "cells": [
  {
   "cell_type": "markdown",
   "metadata": {},
   "source": [
    "---\n",
    "title: Deployment Quiz\n",
    "categories: [CSP, Week 26] # choose your category. usually: [CSP, Week #]\n",
    "tags: [hacks] # tags go here (MUST BE LOWERCASE)\n",
    "---"
   ]
  },
  {
   "cell_type": "markdown",
   "metadata": {},
   "source": [
    "### Curl Command (0.5/0.5)\n",
    "\n",
    "![Curl Command 1](images/curl.png \"Curl Command 1\")\n",
    "\n",
    "![Curl Command 2](images/curl2.png \"Curl Command 2\")\n",
    "\n",
    "\n",
    "### Website Working (Nginx Confirmation) (2/2)\n",
    "\n",
    "![Nginx Confirm](images/nginxconfirm.png \"Nginx Confirm\")\n",
    "\n",
    "\n",
    "### Deployed Server With Security (0.5/0.5)\n",
    "\n",
    "![Deployed Server With Security](images/finished.png \"Deployed Server With Security\")\n",
    "\n",
    "\n",
    "\n",
    "### Info:\n",
    "\n",
    "\n",
    "<table>\n",
    "  <tr>\n",
    "   <td>Name\n",
    "   </td>\n",
    "   <td>Aashray Reddy\n",
    "   </td>\n",
    "  </tr>\n",
    "  <tr>\n",
    "   <td>ID\n",
    "   </td>\n",
    "   <td>125\n",
    "   </td>\n",
    "  </tr>\n",
    "  <tr>\n",
    "   <td>Port\n",
    "   </td>\n",
    "   <td>8069\n",
    "   </td>\n",
    "  </tr>\n",
    "  <tr>\n",
    "   <td>Record name\n",
    "   </td>\n",
    "   <td><a href=\"https://imreddy.stu.nighthawkcodingsociety.com\">imreddy.stu.nighthawkcodingsociety.com</a>\n",
    "   </td>\n",
    "  </tr>\n",
    "</table>\n",
    "\n"
   ]
  }
 ],
 "metadata": {
  "language_info": {
   "name": "python"
  }
 },
 "nbformat": 4,
 "nbformat_minor": 2
}
