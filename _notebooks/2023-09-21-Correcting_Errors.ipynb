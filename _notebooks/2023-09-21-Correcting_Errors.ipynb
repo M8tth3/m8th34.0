{
 "cells": [
  {
   "cell_type": "markdown",
   "metadata": {},
   "source": [
    "---\n",
    "toc: true\n",
    "comments: false\n",
    "layout: post\n",
    "title: Correcting Errors\n",
    "tags: [hacks]\n",
    "categories: [CSP, Week 4] \n",
    "---\n",
    "\n",
    "### What errors may arise in your project?\n",
    "When programming something, it is very rare for it to work the first time and you will encounter many errors. The most common ones include:\n",
    "- Syntax errors\n",
    "- Arithmetic errors\n",
    "  - Many programs use algorithims or math to store data. You may encounter errors if you messed up your algorithim\n",
    "- Logic error\n",
    "  - You may have an error in which your program will operate incorrectly and not terminate\n",
    "- Runtime error\n",
    "  - An error in which something causes the computer to become confused and crash\n",
    "\n",
    "### Test cases that can be used\n",
    "- Any test scenario can be used and it depends on the program you make. Your test case must be able to test what you want to test however \n",
    "\n",
    "\n",
    "    What are some test cases that can be used?\n",
    "    What are “single” tests that you will perform on your project? Or, your part of the project?\n",
    "        As Hack Design and Test plan action … Divide these “single” tests into Issues for Scrum Board prior to coding. FYI, related tests could be in same Issue by using markdown checkboxes to separate tests.\n",
    "\n"
   ]
  },
  {
   "cell_type": "markdown",
   "metadata": {},
   "source": [
    "<hr style=\"solid\">\n",
    "\n",
    "### Debugging\n",
    "- Explain the overall purpose of this program, summarizing what you've covered."
   ]
  },
  {
   "cell_type": "code",
   "execution_count": null,
   "metadata": {},
   "outputs": [],
   "source": [
    "# Initial version with an error\n",
    "x = 10\n",
    "y = 0\n",
    "try:\n",
    "    result = x / y\n",
    "except ZeroDivisionError as e:\n",
    "    print(\"Error:\", e)\n",
    "\n",
    "# Debugging steps to fix the error\n",
    "try:\n",
    "    if y == 0:\n",
    "        raise ValueError(\"y cannot be zero\")\n",
    "    result = x / y\n",
    "except ValueError as e:\n",
    "    print(\"Error:\", e)\n",
    "\n",
    "\n",
    "# Corrected version\n",
    "def divide(x, y):\n",
    "    if y == 0:\n",
    "        raise ValueError(\"y cannot be zero\")\n",
    "    return x / y\n",
    "try:\n",
    "    result = divide(x, y)\n",
    "except ValueError as e:\n",
    "    print(\"Error:\", e)\n",
    "else:\n",
    "    print(\"Result:\", result)"
   ]
  },
  {
   "cell_type": "code",
   "execution_count": null,
   "metadata": {},
   "outputs": [],
   "source": [
    "# Debugging steps to fix the error \n",
    "try: \n",
    "    if y == 0: \n",
    "        raise ValueError(\"y cannot be zero\") \n",
    "    result = x / y \n",
    "except ValueError as e: \n",
    "    print(\"Error:\", e) "
   ]
  },
  {
   "cell_type": "markdown",
   "metadata": {},
   "source": [
    "The code block above demonstrates the steps to fix the error by checking for a zero division condition and raising a ``ValueError`` with a meaningful error message."
   ]
  },
  {
   "cell_type": "code",
   "execution_count": null,
   "metadata": {},
   "outputs": [],
   "source": [
    "# Corrected version:\n",
    "def divide(x, y): \n",
    "    if y == 0: \n",
    "        raise ValueError(\"y cannot be zero\") \n",
    "    return x / y \n",
    "try: \n",
    "    result = divide(x, y) \n",
    "except ValueError as e: \n",
    "    print(\"Error:\", e) \n",
    "else: \n",
    "    print(\"Result:\", result) "
   ]
  },
  {
   "cell_type": "markdown",
   "metadata": {},
   "source": [
    "The code block above provides the corrected version of the code using a ``divide`` function that includes the fix. It also includes error handling to catch and handle any exceptions, and it prints the result if there are no errors.\n",
    "\n",
    "\n",
    "\n",
    "\n",
    "\n"
   ]
  },
  {
   "cell_type": "markdown",
   "metadata": {},
   "source": [
    "<hr style=\"solid\">\n",
    "\n",
    "### Program with Purpose"
   ]
  }
 ],
 "metadata": {
  "kernelspec": {
   "display_name": "Python 3",
   "language": "python",
   "name": "python3"
  },
  "language_info": {
   "codemirror_mode": {
    "name": "ipython",
    "version": 3
   },
   "file_extension": ".py",
   "mimetype": "text/x-python",
   "name": "python",
   "nbconvert_exporter": "python",
   "pygments_lexer": "ipython3",
   "version": "3.10.12"
  },
  "orig_nbformat": 4
 },
 "nbformat": 4,
 "nbformat_minor": 2
}
