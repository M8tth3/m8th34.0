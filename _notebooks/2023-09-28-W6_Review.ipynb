{
 "cells": [
  {
   "cell_type": "markdown",
   "metadata": {},
   "source": [
    "---\n",
    "toc: true\n",
    "comments: false\n",
    "layout: post\n",
    "title: Week 6 Review\n",
    "tags: [tangibles]\n",
    "categories: [CSP, Week 6] \n",
    "---"
   ]
  },
  {
   "cell_type": "markdown",
   "metadata": {},
   "source": [
    "### Datatypes\n",
    "I created an object, logged it, and manipulated its fields.\n",
    "\n",
    "### DOM\n",
    "I created a simple website with 3 buttons. 2 have a link & 1 swtiches the links while updatingn a status indicator.\n",
    "\n",
    "### JS\n",
    "Simple JS snippet which compares the values of two variables using if else code which uses logic to evaluate several statements and display the results.\n",
    "\n",
    "### Debug I\n",
    "Code was pushing number to the alphabet list. Changed so that it fetches from alphabet array and pushes that instead.\n",
    "\n",
    "### Debug II\n",
    "1. For loop now iterates letterNumber times\n",
    "2. For loop uses j instead of i\n",
    "3. For loop checks current letter for match with e\n",
    "4. Log now prints the letter and the correct number\n",
    "\n",
    "### Debug III\n",
    "Changed i to 1 to offset list and print odds.\n",
    "\n"
   ]
  }
 ],
 "metadata": {
  "kernelspec": {
   "display_name": "Python 3",
   "language": "python",
   "name": "python3"
  },
  "language_info": {
   "name": "python",
   "version": "3.10.12"
  },
  "orig_nbformat": 4
 },
 "nbformat": 4,
 "nbformat_minor": 2
}
