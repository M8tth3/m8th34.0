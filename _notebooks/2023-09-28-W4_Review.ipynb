{
 "cells": [
  {
   "cell_type": "markdown",
   "metadata": {},
   "source": [
    "---\n",
    "toc: true\n",
    "comments: false\n",
    "layout: post\n",
    "title: Week 4 Review\n",
    "tags: [tangibles]\n",
    "categories: [CSP, Week 4] \n",
    "---"
   ]
  },
  {
   "cell_type": "markdown",
   "metadata": {},
   "source": [
    "### Python Data Types, Lists, and Dictionaries\n",
    "\n",
    "For the Python Data Types, Lists, and Dictionaries, I created an info db and manipulated its fields. I also created a for loop with an index as well as doind the pair share code where I append data and print it all out. \n",
    "\n",
    "### Correcting Errors\n",
    "\n",
    "For the Correcting Errors, I wrote several snippets of python code demonstrating integral aspects of coding such as input output, lists and dictionary, as well as logic and debugging. The program w/ purpose is a weather app which uses an API to fetch data.\n"
   ]
  }
 ],
 "metadata": {
  "kernelspec": {
   "display_name": "Python 3",
   "language": "python",
   "name": "python3"
  },
  "language_info": {
   "name": "python",
   "version": "3.10.12"
  },
  "orig_nbformat": 4
 },
 "nbformat": 4,
 "nbformat_minor": 2
}
