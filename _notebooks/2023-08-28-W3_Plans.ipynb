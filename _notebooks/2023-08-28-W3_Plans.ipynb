{
 "cells": [
  {
   "cell_type": "markdown",
   "metadata": {},
   "source": [
    "---\n",
    "toc: true\n",
    "comments: true\n",
    "layout: post\n",
    "title: Week 3 Plans\n",
    "tags: [plans]\n",
    "categories: [CSP, Week 1] \n",
    "---"
   ]
  },
  {
   "cell_type": "markdown",
   "metadata": {},
   "source": [
    "### Todo\n",
    "\n",
    "- [x] Bring these into GitHub pages repo as Hacks or Tangibles on you Time Box page.\n",
    "\n",
    "- [x] Python\n",
    "  - [x] Eye tracking vision code\n",
    "    - [x] Setup one-shot deep learning for facial recognition\n",
    "      - [x] Add Mortenson photo (hoping it's good quality photo)\n",
    "      - [x] One option tracks eyes and the other can track faces\n",
    "        - [x] Eye tracker exports data\n",
    "    - [x] Code optimization via scale down scale up method\n",
    "      - [x] Test if it works for face recogniton (note: it doesn't really)\n",
    "- [x] Javascript\n",
    "  - [x] Todo list app\n",
    "    - [x] Take input from the task and create a task list\n",
    "    - [x] Editable tasks\n",
    "    - [x] Confirm before deleting a task\n",
    "- [x] Linux\n",
    "  - [x] Create a script to verify file permissions on a linux system\n",
    "    - [x] Use chown and chmod to enforce security integrity\n",
    "    - [x] Prevent modification of files (which can be a vulnerability)"
   ]
  }
 ],
 "metadata": {
  "language_info": {
   "name": "python"
  },
  "orig_nbformat": 4
 },
 "nbformat": 4,
 "nbformat_minor": 2
}
