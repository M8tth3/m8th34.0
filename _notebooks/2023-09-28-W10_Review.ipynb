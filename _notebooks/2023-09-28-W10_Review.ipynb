{
 "cells": [
  {
   "cell_type": "markdown",
   "metadata": {},
   "source": [
    "---\n",
    "toc: true\n",
    "comments: false\n",
    "layout: post\n",
    "title: Week 10 Review\n",
    "tags: [tangibles]\n",
    "categories: [CSP, Week 10] \n",
    "---"
   ]
  },
  {
   "cell_type": "markdown",
   "metadata": {},
   "source": [
    "### Issues\n",
    "\n",
    "All issues can be seen on the project board in github (I think that the week number may be wrong but the issues are still there)\n",
    "\n",
    "### Week 8\n",
    "\n",
    "Week 8! So far, a lot of changes have been made on the front end design. We’ve fixed some spacing issues and some styling. But backend… oh God backend. Data isn’t working and what the HECK is error 502. So it took a while to fix these issues because the backend server had some issues and we couldn’t grab the data well. Luckily, all of us worked together to get things working. We also started drafting the cookie maker (more on that later).\n",
    "\n",
    "### Week 9\n",
    "\n",
    "Week 9. Once again, issues with the front end were fixed. I fixed some navbar issues and styled the cart screen so that its design is consistent with the rest of the site. However, we still have things to work on. A lot of the cookie maker needs to be finished such as the actual backend functionality which we haven’t added. We also need to create the voting section as well as making the cookie maker page more pretty (consistent styling and animations).\n",
    "\n",
    "### Week 10\n",
    "\n",
    "A lot of the issues in week 9 that were created were actually more so like a plan for the week. So the things that we need to work on are seen in week 9 and anything else that we would like to add would most likely be some styling things and maybe making the checkout screen nicer looking.\n"
   ]
  }
 ],
 "metadata": {
  "kernelspec": {
   "display_name": "Python 3",
   "language": "python",
   "name": "python3"
  },
  "language_info": {
   "name": "python",
   "version": "3.10.12"
  },
  "orig_nbformat": 4
 },
 "nbformat": 4,
 "nbformat_minor": 2
}
