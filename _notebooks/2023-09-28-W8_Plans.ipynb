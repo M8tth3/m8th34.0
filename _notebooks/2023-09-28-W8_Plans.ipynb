{
 "cells": [
  {
   "cell_type": "markdown",
   "metadata": {},
   "source": [
    "---\n",
    "toc: true\n",
    "comments: true\n",
    "layout: post\n",
    "title: Week 8 Plans\n",
    "tags: [plans]\n",
    "categories: [CSP, Week 8] \n",
    "---\n",
    "\n",
    "### Todo\n",
    "\n",
    "- [x] Iteration lesson\n",
    "- [x] Boolean if lesson\n",
    "- [x] Developing algorithms"
   ]
  }
 ],
 "metadata": {
  "language_info": {
   "name": "python"
  },
  "orig_nbformat": 4
 },
 "nbformat": 4,
 "nbformat_minor": 2
}
