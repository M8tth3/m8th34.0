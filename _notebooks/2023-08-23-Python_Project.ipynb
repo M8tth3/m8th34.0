{
 "cells": [
  {
   "cell_type": "markdown",
   "metadata": {},
   "source": [
    "---\n",
    "toc: true\n",
    "comments: false\n",
    "layout: post\n",
    "title: Python Quiz\n",
    "tags: [hacks]\n",
    "categories: [CSP, Week 1] \n",
    "---"
   ]
  },
  {
   "cell_type": "markdown",
   "metadata": {},
   "source": [
    "### Python Quiz - Original Code"
   ]
  },
  {
   "cell_type": "code",
   "execution_count": null,
   "metadata": {},
   "outputs": [],
   "source": [
    "import getpass, sys\n",
    "\n",
    "def question_with_response(prompt):\n",
    "    print(\"Question: \" + prompt)\n",
    "    msg = input()\n",
    "    return msg\n",
    "\n",
    "questions = 3\n",
    "correct = 0\n",
    "\n",
    "print('Hello, ' + getpass.getuser() + \" running \" + sys.executable)\n",
    "print(\"You will be asked \" + str(questions) + \" questions.\")\n",
    "question_and_answer(\"Are you ready to take a test?\")\n",
    "\n",
    "rsp = question_with_response(\"What command is used to include other functions that were previously developed?\")\n",
    "if rsp == \"import\":\n",
    "    print(rsp + \" is correct!\")\n",
    "    correct += 1\n",
    "else:\n",
    "    print(rsp + \" is incorrect!\")\n",
    "\n",
    "rsp = question_with_response(\"What command is used to evaluate correct or incorrect response in this example?\")\n",
    "if rsp == \"if\":\n",
    "    print(rsp + \" is correct!\")\n",
    "    correct += 1\n",
    "else:\n",
    "    print(rsp + \" is incorrect!\")\n",
    "\n",
    "rsp = question_with_response(\"Each 'if' command contains an '_________' to determine a true or false condition?\")\n",
    "if rsp == \"expression\":\n",
    "    print(rsp + \" is correct!\")\n",
    "    correct += 1\n",
    "else:\n",
    "    print(rsp + \" is incorrect!\")\n",
    "\n",
    "print(getpass.getuser() + \" you scored \" + str(correct) +\"/\" + str(questions))"
   ]
  },
  {
   "cell_type": "markdown",
   "metadata": {},
   "source": [
    "<hr style='solid'>\n",
    "### Python Quiz - Improved Code\n"
   ]
  },
  {
   "cell_type": "code",
   "execution_count": null,
   "metadata": {},
   "outputs": [],
   "source": [
    "import getpass, sys\n",
    "\n",
    "def question(prompt, answer, score): #question prompt, the answer, and external var w/score\n",
    "    print(\"Question: \" + prompt) #display prompt\n",
    "    response = input() #read response\n",
    "\n",
    "    if response == answer: #response matches answer\n",
    "        print(response + \" is correct!\")\n",
    "        score += 1 #add to your score\n",
    "    else:\n",
    "        print(response + \" is incorrect!\")\n",
    "    \n",
    "    return score #return the score; this gets added to the score\n",
    "\n",
    "# score is set 0\n",
    "# run the function, passing in the current score. if correct, add to it + return\n",
    "# the next function recieves the NEW score, which gets added + returned\n",
    "# this repeats until the end\n",
    "\n",
    "questions = 3\n",
    "score = 0\n",
    "\n",
    "print('Hello, ' + getpass.getuser() + \" running \" + sys.executable)\n",
    "print(\"You will be asked \" + str(questions) + \" questions.\")\n",
    "print(\"Are you ready to take a test?\")\n",
    "\n",
    "score = question(\"What command is used to include other functions that were previously developed?\", \"import\", score)\n",
    "score = question(\"What command is used to evaluate correct or incorrect response in this example?\", \"if\", score)\n",
    "score = question(\"Each 'if' command contains an '_________' to determine a true or false condition?\", \"expression\", score)\n",
    "\n",
    "\n",
    "print(getpass.getuser() + \", you scored \" + str(score) +\"/\" + str(questions))"
   ]
  },
  {
   "cell_type": "markdown",
   "metadata": {},
   "source": [
    "This new code eliminates the repeating functions, condensing it into one. To see more info on how everything works, see the comments.\n",
    "\n",
    "<hr style='solid'>\n",
    "\n",
    "### Python Quiz - Custom Questions"
   ]
  },
  {
   "cell_type": "code",
   "execution_count": null,
   "metadata": {},
   "outputs": [],
   "source": [
    "import getpass, sys\n",
    "\n",
    "def question(prompt, answer, score): #question prompt, the answer, and external var w/score\n",
    "    print(\"Question: \" + prompt) #display prompt\n",
    "    response = input() #read response\n",
    "\n",
    "    if response == answer: #response matches answer\n",
    "        print(response + \" is correct!\")\n",
    "        score += 1 #add to your score\n",
    "    else:\n",
    "        print(response + \" is incorrect!\")\n",
    "    \n",
    "    return score #return the score; this gets added to the score\n",
    "\n",
    "# score is set 0\n",
    "# run the function, passing in the current score. if correct, add to it + return\n",
    "# the next function recieves the NEW score, which gets added + returned\n",
    "# this repeats until the end\n",
    "\n",
    "questions = 3\n",
    "score = 0\n",
    "\n",
    "print('Hello, ' + getpass.getuser() + \" running \" + sys.executable)\n",
    "print(\"You will be asked \" + str(questions) + \" questions.\")\n",
    "print(\"Are you ready to take a test?\")\n",
    "\n",
    "score = question(\"How can I delete all Windows shares?\", \"compmgmt.msc\", score)\n",
    "score = question(\"How can I easily apply Group Policies to a Windows image?\", \"LGPO\", score)\n",
    "score = question(\"What file is used to apply policies for secpol?\", \"inf\", score)\n",
    "\n",
    "\n",
    "print(getpass.getuser() + \", you scored \" + str(score) +\"/\" + str(questions))"
   ]
  }
 ],
 "metadata": {
  "kernelspec": {
   "display_name": "Python 3",
   "language": "python",
   "name": "python3"
  },
  "language_info": {
   "name": "python",
   "version": "3.10.12"
  },
  "orig_nbformat": 4
 },
 "nbformat": 4,
 "nbformat_minor": 2
}
