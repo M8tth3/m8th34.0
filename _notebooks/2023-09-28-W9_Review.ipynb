{
 "cells": [
  {
   "cell_type": "markdown",
   "metadata": {},
   "source": [
    "---\n",
    "toc: true\n",
    "comments: false\n",
    "layout: post\n",
    "title: Week 9 Review\n",
    "tags: [tangibles]\n",
    "categories: [CSP, Week 9] \n",
    "---"
   ]
  },
  {
   "cell_type": "markdown",
   "metadata": {},
   "source": [
    "### Developing Algorithms\n",
    "\n",
    "One of the concepts in this lesson was about how simple changes to algorithms can result in a different result, such as changing an expression symbol or adding a new line (the symbol change can be seen in Hack 2)\n",
    "\n",
    "Another important thing is data collection for algorithms. Algorithms are mainly math but translated into code so that a machine can do these equations very quickly. Math is data oriented so therefore, algorithms need lots of data which can be collected in different ways like asking people or tracking behavior in the background (_looking at you, Zuck)_.\n",
    "\n",
    "Creating algorithms is also a process to learn. Algorithms are best made when each function is separated and compartmentalized so that you can eliminate major errors as errors will be separated and this allows code to be more usable as well as modular.\n",
    "\n",
    "Many of the other hacks involved data manipulation with numbers and were basically using functions to make code much more efficient.\n",
    "\n",
    "\n",
    "### List and Operations\n",
    "\n",
    "This hack was about manipulating arrays which is another way of storing data (it’s a form of data abstraction). A lot of the array manipulation was easy but I struggled with the searching algorithms because these algorithms didn’t make sense to me conceptually in the code. \n",
    "\n",
    "However, I did some research and asked chatGPT for help which was useful for me. Another thing that I did for the last hack (for creativity) was to recreate a fun song using code (the beer on the wall song).\n",
    "\n",
    "\n",
    "### API stuff\n",
    "\n",
    "For our website, we did a lot of things for the API such as requests. We were able to get data from the backend and post it onto the website as well as send data from the frontend back (such as the add to cart feature) and we plan on integrating with backend even more with the cookie maker project we’re working on."
   ]
  }
 ],
 "metadata": {
  "kernelspec": {
   "display_name": "Python 3",
   "language": "python",
   "name": "python3"
  },
  "language_info": {
   "name": "python",
   "version": "3.10.12"
  },
  "orig_nbformat": 4
 },
 "nbformat": 4,
 "nbformat_minor": 2
}
