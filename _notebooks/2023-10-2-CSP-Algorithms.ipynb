{
 "cells": [
  {
   "cell_type": "markdown",
   "metadata": {},
   "source": [
    "---\n",
    "toc: true\n",
    "comments: false\n",
    "layout: post\n",
    "title: CSP Algorithms\n",
    "comments: true \n",
    "tags: [hacks]\n",
    "categories: [CSP, Week 7] \n",
    "---"
   ]
  },
  {
   "cell_type": "markdown",
   "metadata": {},
   "source": [
    "# Algorithms\n",
    "\n",
    "BIG IDEA: A FINITE SET OF INSTRUCTIONS THAT ACCOMPLISH A SPECIFIC TASK \n",
    "\n",
    "### Sequencing \n",
    "\n",
    "DO STEPS OF CODE IN THE ORDER SPECIFIED \n",
    "\n",
    "first step -> second step -> third step"
   ]
  },
  {
   "cell_type": "code",
   "execution_count": null,
   "metadata": {},
   "outputs": [],
   "source": [
    "number = int(input(\"Enter a number: \"))\n",
    "\n",
    "result = number * 2\n",
    "print(\"double of \" + str(number) + \" is \" + str(result))\n"
   ]
  },
  {
   "cell_type": "markdown",
   "metadata": {},
   "source": [
    "\n",
    "1. Create a variable based on user input\n",
    "2. Multiply variable by two\n",
    "3. Print out both variables at the end\n",
    "\n",
    "### Selection \n",
    "\n",
    "Choose TWO OR MORE OUTCOMES based on a DECISION or CONDITION "
   ]
  },
  {
   "cell_type": "code",
   "execution_count": null,
   "metadata": {},
   "outputs": [],
   "source": [
    "number = 6\n",
    "if number % 2 == 0:\n",
    "    print(\"Even\")\n",
    "else:\n",
    "    print(\"Odd\")\n"
   ]
  },
  {
   "cell_type": "markdown",
   "metadata": {},
   "source": [
    "1. Set number to 5\n",
    "2. If number is divisible by 2 with no remainder, print \"Even\"\n",
    "3. Otherwise, print \"Odd\"\n",
    "\n",
    "# ITERATION \n",
    "\n",
    "REPEAT STEPS BASED ON A DECISION or STOP when a condition is met \n",
    "\n",
    "first step -> \n",
    "second step -> \n",
    "if step 2: true -> first step \n",
    "if step 2: false -> third step \n",
    "-> fourth step "
   ]
  },
  {
   "cell_type": "code",
   "execution_count": null,
   "metadata": {},
   "outputs": [],
   "source": [
    "fruits = [\"apple\", \"banana\", \"cherry\"]\n",
    "for fruit in fruits:\n",
    "    print(fruit)"
   ]
  },
  {
   "cell_type": "markdown",
   "metadata": {},
   "source": [
    "1. Create a list called fruits\n",
    "2. For each fruit in the list, print the fruit\n",
    "\n",
    "### ACTIVITY 1: Robot Pseudocode \n",
    "\n",
    "[Link to Robot Question 2](https://assets.learnosity.com/organisations/537/VR165972.g03.png)\n",
    "\n",
    "Write the pseudocode to move the robot onto the gray square. \n",
    "\n",
    "Available Code:\n",
    "Move forward\n",
    "Turn Left\n",
    "Turn Right\n",
    "\n",
    "PseudoCode here: \n",
    "REPEAT 3 TIMES {\n",
    "    Move forward\n",
    "}\n",
    "Turn left\n",
    "REPEAT 2 TIMES {\n",
    "    Move forward\n",
    "}\n",
    "Turn right\n",
    "REPEAT 3 TIMES {\n",
    "    Move forward\n",
    "}"
   ]
  },
  {
   "cell_type": "code",
   "execution_count": null,
   "metadata": {},
   "outputs": [],
   "source": [
    "# Math Operations:\n",
    "\n",
    "print(\"Addition\") #addition\n",
    "result = 5 + 3\n",
    "print(result)  # 8\n",
    "\n",
    "print(\"\\nSubtraction\") #subtraction\n",
    "result = 10 - 4\n",
    "print(result)  # 6\n",
    "\n",
    "print(\"\\nMultiplication\") #multiplication\n",
    "result = 6 * 7\n",
    "print(result)  # 42\n",
    "\n",
    "print(\"\\nFloat Division\") #float division (float = numbers with decimal values)\n",
    "result = 20 / 4\n",
    "print(result)  # 5.0\n",
    "\n",
    "print(\"\\nInteger Division (floor division)\") #floor division\n",
    "result = 20 // 4\n",
    "print(result)  # 5\n",
    "\n",
    "print(\"\\nModulus (remainder)\") #remainder\n",
    "result = 10 % 3\n",
    "print(result)  # 1"
   ]
  },
  {
   "cell_type": "markdown",
   "metadata": {},
   "source": [
    "### Fibonacci "
   ]
  },
  {
   "cell_type": "code",
   "execution_count": null,
   "metadata": {},
   "outputs": [],
   "source": [
    "def fibonacci(n): #fibonacci sequence \n",
    "    fib_series = [0, 1]  \n",
    "\n",
    "    while len(fib_series) < n:\n",
    "        next_number = fib_series[-1] + fib_series[-2]  \n",
    "        fib_series.append(next_number)  \n",
    "\n",
    "    return fib_series\n",
    "\n",
    "n = 10  \n",
    "result = fibonacci(n)\n",
    "print(result)  # [0, 1, 1, 2, 3, 5, 8, 13, 21, 34]\n",
    "\n",
    "# initial length of list is 2 \n",
    "# while length of list is less than amount of numbers we want in our final sequence\n",
    "# add the last two numbers of the list \n",
    "# add this value to the end of the list \n",
    "# repeat until length of list reaches n\n"
   ]
  },
  {
   "cell_type": "markdown",
   "metadata": {},
   "source": [
    "### Mini Lesson: If, Else Statements"
   ]
  },
  {
   "cell_type": "code",
   "execution_count": null,
   "metadata": {},
   "outputs": [],
   "source": [
    "num =0\n",
    "\n",
    "if num > 0:\n",
    "    print(str(num) + \" is positive.\")\n",
    "elif num < 0:\n",
    "    print(str(num) + \" is negative.\")\n",
    "else:\n",
    "    print(str(num) + \" is zero.\")\n"
   ]
  },
  {
   "cell_type": "markdown",
   "metadata": {},
   "source": [
    "### Mini Lesson 2: For, While Loops"
   ]
  },
  {
   "cell_type": "code",
   "execution_count": null,
   "metadata": {},
   "outputs": [],
   "source": [
    "names = [\"Alice\", \"Bob\", \"Charlie\", \"David\", \"Eve\"]\n",
    "for name in names:\n",
    "    print(name)\n",
    "\n",
    "\n",
    "num = 1\n",
    "while num <= 5:\n",
    "    print(num)\n",
    "    num += 1\n"
   ]
  },
  {
   "cell_type": "markdown",
   "metadata": {},
   "source": [
    "### Mini Lesson 3: Defining Function "
   ]
  },
  {
   "cell_type": "code",
   "execution_count": null,
   "metadata": {},
   "outputs": [],
   "source": [
    "\n",
    "def calculate_square(number):\n",
    "    square = number * number\n",
    "    return square #ends function \n",
    "\n",
    "result = calculate_square(5)\n",
    "print(f\"The square of 5 is {result}\")\n"
   ]
  },
  {
   "cell_type": "markdown",
   "metadata": {},
   "source": [
    "### Mini Lesson 4: Input"
   ]
  },
  {
   "cell_type": "code",
   "execution_count": null,
   "metadata": {},
   "outputs": [],
   "source": [
    "variable1 = input(\"How old are you?\")\n",
    "print(\"You are \" + variable1 + \" years old\")"
   ]
  },
  {
   "cell_type": "markdown",
   "metadata": {},
   "source": [
    "### ACTIVITY 2: CALCULATOR \n",
    "1. Create calculator function <br>\n",
    "2. Allow user to Choose 2 numbers and an operator <br>\n",
    "3. Perform specified operation based on input <br>\n",
    "4. Return result of calculation <br>\n"
   ]
  },
  {
   "cell_type": "code",
   "execution_count": 1,
   "metadata": {},
   "outputs": [],
   "source": [
    "#include <stdio.h>\n",
    "\n",
    "float calculator(float number1, char operator, float number2);\n",
    "\n",
    "int main(int argc, char const *argv[])\n",
    "{\n",
    "    printf(\"Type a float, operator, and float\\n\"); // prompt\n",
    "\n",
    "    // variable declarations\n",
    "    float num1, num2;\n",
    "    char operator;\n",
    "\n",
    "    scanf(\"%f\", &num1); // take input\n",
    "    scanf(\" %c\", &operator);\n",
    "    scanf(\"%f\", &num2);\n",
    "\n",
    "    float answer = calculator(num1, operator, num2); // call function\n",
    "\n",
    "    printf(\"%f\", answer);\n",
    "\n",
    "    return 0;\n",
    "}\n",
    "\n",
    "float calculator(float number1, char operator, float number2)\n",
    "{\n",
    "    float answer; // declare this first\n",
    "\n",
    "    switch (operator) // switch case for the different operators\n",
    "    {\n",
    "    case '+':\n",
    "        answer = number1 + number2;\n",
    "        break;\n",
    "    case '-':\n",
    "        answer = number1 - number2;\n",
    "        break;\n",
    "    case '*':\n",
    "        answer = number1 * number2;\n",
    "        break;\n",
    "    case '/':\n",
    "        answer = number1 / number2;\n",
    "        break;\n",
    "    default:\n",
    "        break;\n",
    "    }\n",
    "\n",
    "    return answer; // return the answer\n",
    "}\n"
   ]
  },
  {
   "cell_type": "code",
   "execution_count": null,
   "metadata": {},
   "outputs": [],
   "source": [
    "# String Operations and Concatenation:\n",
    "\n",
    "print(\"\\nString Concatenation\") #add together strings\n",
    "str1 = \"Hello\"\n",
    "str2 = \"World\"\n",
    "result = str1 + \" \" + str2\n",
    "print(result)  # \"Hello World\"\n",
    "\n",
    "print(\"\\nString Length\") #length of string\n",
    "text = \"This is a sample text.\"\n",
    "length = len(text)\n",
    "print(length)  # 22\n",
    "\n",
    "print(\"\\nString Indexing and Slicing\") #string slicing \n",
    "text = \"Python\"\n",
    "first_char = text[0]\n",
    "substring = text[2:5]\n",
    "print(first_char)  # 'P'\n",
    "print(substring)  # 'tho'\n",
    "\n",
    "\n",
    "print(\"\\nString Repetition (Repeating Strings)\")\n",
    "text = \"Repeat \"\n",
    "result = text * 3\n",
    "print(result)  # \"Repeat Repeat Repeat \"\n",
    "\n",
    "# Palindrome Check Algorithm:\n",
    "\n",
    "print(\"\\nPalindrome Check Algorithm\")\n",
    "\n",
    "def is_palindrome(text):\n",
    "    text = text.replace(\" \", \"\").lower()\n",
    "    return text == text[::-1] ## == will return boolean \n",
    "\n",
    "result1 = is_palindrome(\"racecar\")\n",
    "result2 = is_palindrome(\"Hello, World!\")\n",
    "\n",
    "print(result1)  # True\n",
    "print(result2)  # False"
   ]
  },
  {
   "cell_type": "markdown",
   "metadata": {},
   "source": [
    "### ACTIVITY 3: COUNTING VOWELS\n",
    "1. Create a function that takes a word as an input <br>\n",
    "2. Use a for loop to iterate through each character of a word <br>\n",
    "3. Check how many characters in a word contain vowels <br>\n",
    "4. Return vowel number <br>"
   ]
  },
  {
   "cell_type": "code",
   "execution_count": null,
   "metadata": {},
   "outputs": [],
   "source": [
    "#include <stdio.h>\n",
    "#include <string.h>\n",
    "\n",
    "int main(int argc, char const *argv[])\n",
    "{\n",
    "    char word[100];     // create array\n",
    "    scanf(\"%s\", &word); // user input\n",
    "\n",
    "    int letterCount = strlen(word); // count # of characters\n",
    "    int vowelCount;                 // declare vowel count\n",
    "\n",
    "    for (int i = 0; i < letterCount; i++) // loop thru array\n",
    "    {\n",
    "        if (word[i] == 'a' || word[i] == 'e' || word[i] == 'i' || word[i] == 'o' || word[i] == 'u') // is the char a vowel?\n",
    "        {\n",
    "            vowelCount++; // update the count\n",
    "        }\n",
    "    }\n",
    "\n",
    "    printf(\"%d\", vowelCount); // print it\n",
    "\n",
    "    return 0;\n",
    "}"
   ]
  },
  {
   "cell_type": "markdown",
   "metadata": {},
   "source": [
    "# Homework \n",
    "\n",
    "CREATE TEXT (string) ANALYZER:\n",
    "\n",
    "### Criteria: \n",
    "1. Accepts input from user\n",
    "2. Counts total letters, numbers, spaces in a string\n",
    "3. Counts number of vowels\n",
    "4. Calculates average word length\n",
    "5. Correctly displays: total # of characters (including spaces + numbers), total vowels, average word length\n",
    "6. ensure that program handles upper and lowercase spelling\n",
    "7. Test multiple inputs to ensure accuracy \n",
    "\n",
    "### Extra credit:\n",
    "1. Add a unique program, function, or feature not specified by criterias\n"
   ]
  },
  {
   "cell_type": "code",
   "execution_count": null,
   "metadata": {},
   "outputs": [],
   "source": [
    "#include <stdio.h>\n",
    "#include <string.h>\n",
    "#include <stdbool.h>\n",
    "\n",
    "int main(int argc, char const *argv[])\n",
    "{\n",
    "    char word[20];\n",
    "    printf(\"Enter sentence: \");\n",
    "    fgets(word, sizeof(word), stdin); // read string\n",
    "    printf(\"Your phrase: %s\", word);\n",
    "\n",
    "    // COUNT CHARACTERS\n",
    "    int characterCount = strlen(word);\n",
    "\n",
    "    // COUNT VOWELS\n",
    "    int vowelCount = 0;\n",
    "    for (int i = 0; i < characterCount; i++) // look for vowels; update count\n",
    "    {\n",
    "        if (word[i] == 'a' || word[i] == 'e' || word[i] == 'i' || word[i] == 'o' || word[i] == 'u') // is the char a vowel?\n",
    "        {\n",
    "            vowelCount++;\n",
    "        }\n",
    "    }\n",
    "\n",
    "    // AVERAGE WORD LENGTH\n",
    "    int wordCount = 0;\n",
    "    for (int i = 0; i < characterCount; i++) // look for spaces or newline; update count\n",
    "    {\n",
    "        if (word[i] == ' ' || word[i] == '\\n')\n",
    "        {\n",
    "            wordCount++;\n",
    "        }\n",
    "    }\n",
    "    float wordLength = (float)(characterCount - wordCount) / (wordCount); // subtract spaces & divide by wordcount; cast to float\n",
    "\n",
    "    // COOKIE DETECTOR\n",
    "    char key[7] = \"cookie\";\n",
    "    bool cookie = strstr(word, key) != NULL; // set to true if the strstr() result != NULL\n",
    "\n",
    "    // DISPLAY\n",
    "    printf(\"Total number of characters: %d\\n\", characterCount);\n",
    "    printf(\"Total number of vowels: %d\\n\", vowelCount);\n",
    "    printf(\"Average word length %.2lf\\n\", wordLength);\n",
    "    bool cookie = true ? printf(\"COOKIE HAS BEEN FOUND!!!\") : printf(\"no cookie detected :(\"); // print if cookie = true\n",
    "\n",
    "    return 0;\n",
    "}"
   ]
  }
 ],
 "metadata": {
  "kernelspec": {
   "display_name": "C",
   "language": "c",
   "name": "c"
  },
  "language_info": {
   "file_extension": ".c",
   "mimetype": "text/plain",
   "name": "c",
   "version": "3.10.12"
  }
 },
 "nbformat": 4,
 "nbformat_minor": 2
}
