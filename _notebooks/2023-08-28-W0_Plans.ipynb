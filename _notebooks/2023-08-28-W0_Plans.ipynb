{
 "cells": [
  {
   "cell_type": "markdown",
   "metadata": {},
   "source": [
    "---\n",
    "toc: true\n",
    "comments: false\n",
    "layout: post\n",
    "title: Week 0 Plans\n",
    "tags: [plans]\n",
    "categories: [CSP, Week 0] \n",
    "---"
   ]
  },
  {
   "cell_type": "markdown",
   "metadata": {},
   "source": [
    "### Todo\n",
    "\n",
    "Mainly for me, but here it is if ya wanna see what I'm up to:\n",
    "\n",
    "- [x] Style the website to how I like\n",
    "- [x] Week 0 hacks done\n",
    "  - [x] JS calculator\n",
    "  - [x] JS game\n"
   ]
  }
 ],
 "metadata": {
  "language_info": {
   "name": "python"
  },
  "orig_nbformat": 4
 },
 "nbformat": 4,
 "nbformat_minor": 2
}
