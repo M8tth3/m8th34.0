{
 "cells": [
  {
   "cell_type": "markdown",
   "metadata": {},
   "source": [
    "---\n",
    "toc: true\n",
    "comments: false\n",
    "layout: post\n",
    "title: Table Code Hack\n",
    "tags: [hacks]\n",
    "categories: [CSP, Week 2] \n",
    "---"
   ]
  },
  {
   "cell_type": "markdown",
   "metadata": {},
   "source": [
    "### IF Code Block"
   ]
  },
  {
   "cell_type": "code",
   "execution_count": null,
   "metadata": {},
   "outputs": [],
   "source": [
    "a ← 1\n",
    "b ← 1\n",
    "\n",
    "IF (a = b) {\n",
    "   DISPLAY(\"A equals B\")\n",
    "}"
   ]
  },
  {
   "cell_type": "code",
   "execution_count": null,
   "metadata": {
    "vscode": {
     "languageId": "javascript"
    }
   },
   "outputs": [],
   "source": [
    "// declare vars for usage\n",
    "var a = 1;\n",
    "var b = 1;\n",
    "if (a == b) {\n",
    "    element.text(\"A equals B\"); // display as per the if()\n",
    "}    \n"
   ]
  },
  {
   "cell_type": "code",
   "execution_count": null,
   "metadata": {},
   "outputs": [],
   "source": [
    "A equals B"
   ]
  },
  {
   "cell_type": "markdown",
   "metadata": {},
   "source": [
    "<hr style=\"solid\">\n",
    "\n",
    "### REPEAT n TIMES Code Block"
   ]
  },
  {
   "cell_type": "code",
   "execution_count": null,
   "metadata": {},
   "outputs": [],
   "source": [
    "a ← 0 \n",
    "\n",
    "REPEAT 100 TIMES\n",
    "{\n",
    "    a ← a + 1\n",
    "}\n",
    "\n",
    "DISPLAY(a)"
   ]
  },
  {
   "cell_type": "code",
   "execution_count": null,
   "metadata": {},
   "outputs": [],
   "source": [
    "a = 0 # gotta declare + initialize the var\n",
    "\n",
    "for x in range(100): # repeat 100 times\n",
    "    a += 1 # a++\n",
    "\n",
    "print(a) # print "
   ]
  },
  {
   "cell_type": "code",
   "execution_count": null,
   "metadata": {
    "vscode": {
     "languageId": "javascript"
    }
   },
   "outputs": [],
   "source": [
    "var a = 0; // var a which is 0\n",
    "for (let i = 0; i < 100; i++) { // for loop to increment a 100 times\n",
    "    a++;\n",
    "}    \n",
    "element.text(a); // display it"
   ]
  },
  {
   "cell_type": "code",
   "execution_count": null,
   "metadata": {},
   "outputs": [],
   "source": [
    "100"
   ]
  },
  {
   "cell_type": "markdown",
   "metadata": {},
   "source": [
    "<hr style=\"solid\">\n",
    "\n",
    "### Why pseudo code helps\n",
    "\n",
    "Psuedo code helps because it creates a template/draft to go off of. Furthermore, since psuedo code is not a real language, you can use it to draft projects for any language. So the same pseudo code can be transferred to C, Python, etc. which makes it very useful for creating drafts that anyone can use.\n",
    "\n",
    "It helped me solve this problem, because like mentioned above, I only have to write one draft in psuedo code then translate it to Python or JS.\n",
    "\n",
    "\n",
    "### Vocab to know:\n",
    "\n",
    "- Code block\n",
    "  - A block or section of a whole piece of code\n",
    "- Sequence\n",
    "  - A sequence of instructions or commands to run in a step by step, logical order\n",
    "- Selection\n",
    "  - Run commands in the code block associated with the selection\n",
    "- Iteration\n",
    "  - Repeat commands in the code block and iterates it based on a certain condition"
   ]
  }
 ],
 "metadata": {
  "kernelspec": {
   "display_name": "Python 3",
   "language": "python",
   "name": "python3"
  },
  "language_info": {
   "codemirror_mode": {
    "name": "ipython",
    "version": 3
   },
   "file_extension": ".py",
   "mimetype": "text/x-python",
   "name": "python",
   "nbconvert_exporter": "python",
   "pygments_lexer": "ipython3",
   "version": "3.10.12"
  },
  "orig_nbformat": 4
 },
 "nbformat": 4,
 "nbformat_minor": 2
}
