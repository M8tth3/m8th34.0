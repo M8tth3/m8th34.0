{
 "cells": [
  {
   "cell_type": "markdown",
   "metadata": {},
   "source": [
    "---\n",
    "toc: true\n",
    "comments: false\n",
    "layout: post\n",
    "title: Week 1 Review\n",
    "tags: [tangibles]\n",
    "categories: [CSP, Week 1] \n",
    "---"
   ]
  },
  {
   "cell_type": "markdown",
   "metadata": {},
   "source": [
    "### Summary of Accomplishments\n",
    "\n",
    "- Finished python quiz\n",
    "  - Optimized code\n",
    "  - Added custom questions\n",
    "- Finish linux shell and bash blog\n",
    "  - Cheat sheet\n",
    "  - Explanation"
   ]
  }
 ],
 "metadata": {
  "language_info": {
   "name": "python"
  },
  "orig_nbformat": 4
 },
 "nbformat": 4,
 "nbformat_minor": 2
}
