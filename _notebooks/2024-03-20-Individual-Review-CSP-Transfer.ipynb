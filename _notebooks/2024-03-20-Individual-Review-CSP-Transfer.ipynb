{
 "cells": [
  {
   "cell_type": "markdown",
   "metadata": {},
   "source": [
    "---\n",
    "title: Aashray Reddy CSP Final Individual Review\n",
    "categories: [CSP, Week 26] # choose your category. usually: [CSP, Week #]\n",
    "tags: [hacks] # tags go here (MUST BE LOWERCASE)\n",
    "---"
   ]
  },
  {
   "cell_type": "markdown",
   "metadata": {},
   "source": [
    "[Review](https://kinetekenergy.github.io/blog/posts/CSP-Final_IPYNB_2_/)\n",
    "[Video](https://youtu.be/gd6uUlJ50Z0)\n",
    "\n",
    "Or if you want to see the video on our deployed project: [Video on Project](https://napoleon-bonaparte-official.github.io/corsica-frontend/video?videoID=9)\n",
    "\n",
    "Here is a post which combine all other posts we've made (checkpoints, etc.) into one if you want:\n",
    "[Unified Post](https://kinetekenergy.github.io/blog/posts/Unfied-Post_IPYNB_2_/)"
   ]
  },
  {
   "cell_type": "markdown",
   "metadata": {},
   "source": [
    "Note that the video on our deployed project may not work. The servers were most likely shut down and erased after the final."
   ]
  }
 ],
 "metadata": {
  "language_info": {
   "name": "python"
  }
 },
 "nbformat": 4,
 "nbformat_minor": 2
}
