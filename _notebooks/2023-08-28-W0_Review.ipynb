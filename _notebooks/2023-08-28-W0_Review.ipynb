{
 "cells": [
  {
   "cell_type": "markdown",
   "metadata": {},
   "source": [
    "---\n",
    "toc: true\n",
    "comments: false\n",
    "layout: post\n",
    "title: Week 0 Review\n",
    "tags: [tangibles]\n",
    "categories: [CSP, Week 0] \n",
    "---"
   ]
  },
  {
   "cell_type": "markdown",
   "metadata": {},
   "source": [
    "### Summary of Accomplishments\n",
    "\n",
    "- Finish blog on why I love my tools\n",
    "- Finish blog on installations and pages and version control\n",
    "- Finish JS grade calculator as well as normal calculator (see blogs for the post)"
   ]
  }
 ],
 "metadata": {
  "language_info": {
   "name": "python"
  },
  "orig_nbformat": 4
 },
 "nbformat": 4,
 "nbformat_minor": 2
}
