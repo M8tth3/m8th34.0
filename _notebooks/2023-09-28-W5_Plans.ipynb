{
 "cells": [
  {
   "cell_type": "markdown",
   "metadata": {},
   "source": [
    "---\n",
    "toc: true\n",
    "comments: true\n",
    "layout: post\n",
    "title: Week 5 Plans\n",
    "tags: [plans]\n",
    "categories: [CSP, Week 5] \n",
    "---"
   ]
  },
  {
   "cell_type": "markdown",
   "metadata": {},
   "source": [
    "### Todo\n",
    "\n",
    "- [x] Program with Output\n",
    "- [x] Program with Input / Output\n",
    "- [x] Program with a List\n",
    "- [x] Program with a Dictionary\n",
    "- [x] Program with Iteration\n",
    "- [x] Program with a Function\n",
    "- [x] Program with a Selection/Condition\n",
    "- [x] Debugging\n",
    "- [x] Program with Purpose\n",
    "- [x] Conclusion"
   ]
  }
 ],
 "metadata": {
  "language_info": {
   "name": "python"
  },
  "orig_nbformat": 4
 },
 "nbformat": 4,
 "nbformat_minor": 2
}
