{
 "cells": [
  {
   "cell_type": "markdown",
   "metadata": {},
   "source": [
    "---\n",
    "title: Debugging Event\n",
    "categories: [CSP, Week 26] # choose your category. usually: [CSP, Week #]\n",
    "tags: [hacks] # tags go here (MUST BE LOWERCASE)\n",
    "---"
   ]
  },
  {
   "cell_type": "markdown",
   "metadata": {},
   "source": [
    "1. Start backend using Debugging \n",
    "![image](https://github.com/KinetekEnergy/blog/assets/79232996/7f5f2182-0bff-4129-a605-d4c56e27d642)\n",
    "\n",
    "2. Set break point at the beginning of endpoint code \n",
    "![image](https://github.com/KinetekEnergy/blog/assets/79232996/25a9e7f5-9489-44b7-b3ae-c96f93cc9104)\n",
    "\n",
    "3. Start in frontend with split screen loading source for an API fetch using GET. \n",
    "![image](https://github.com/KinetekEnergy/blog/assets/79232996/9c6555f6-09b5-4c33-a81d-a1147fd9c8d5)\n",
    "\n",
    "4. Set break point on fetch, inside .then, inside .fetch \n",
    "![image](https://github.com/KinetekEnergy/blog/assets/79232996/afe9550a-8a78-47b4-816f-6e5c3480ce77)\n",
    "\n",
    "5. Run frontend, screen capture break at fetch while examining Body \n",
    "![image](https://github.com/KinetekEnergy/blog/assets/79232996/ebc8da5b-11fd-4da5-8fa7-5b5e3e32ed73)\n",
    "\n",
    "6. Press play on frontend, observe stop inside of backend \n",
    "![image](https://github.com/KinetekEnergy/blog/assets/79232996/51924328-f5a8-4596-8fdd-4461137530a8)\n",
    "\n",
    "7. Press step over on backend until you have obtained data from database, screen capture Python Object \n",
    "![image](https://github.com/KinetekEnergy/blog/assets/79232996/1fd7b551-6352-4271-9fd8-2e438182ea3f)\n",
    "\n",
    "8. Press play button to end backend debugging session. \n",
    "![image](https://github.com/KinetekEnergy/blog/assets/79232996/3d512168-3a03-4098-9f7a-689de4d574f4)\n",
    "\n",
    "9. Return to frontend debug session \n",
    "10. Step in until you see data, screen capture capturing break point and Data. \n",
    "![image](https://github.com/KinetekEnergy/blog/assets/79232996/9752a57c-b35c-4d7a-b4b1-c7972b5119bd)\n"
   ]
  }
 ],
 "metadata": {
  "language_info": {
   "name": "python"
  }
 },
 "nbformat": 4,
 "nbformat_minor": 2
}
