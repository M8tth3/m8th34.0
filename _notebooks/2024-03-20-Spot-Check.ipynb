{
 "cells": [
  {
   "cell_type": "markdown",
   "metadata": {},
   "source": [
    "---\n",
    "title: CSP Spot Check 1 & 2\n",
    "categories: [CSP, Week 26] # choose your category. usually: [CSP, Week #]\n",
    "tags: [hacks] # tags go here (MUST BE LOWERCASE)\n",
    "---"
   ]
  },
  {
   "cell_type": "markdown",
   "metadata": {},
   "source": [
    "## CSP Spot Check 1 (database, postman, cookies)"
   ]
  },
  {
   "cell_type": "markdown",
   "metadata": {},
   "source": [
    "- [X] Aashray Reddy, P5, 2.0/2.0\n",
    "- [X] Q1 = 0.90; Q2 = 0.91; Q3 = 0.92\n",
    "- [X] Q2 + Q2 + Q3 = 2.0 of 2.0"
   ]
  },
  {
   "cell_type": "markdown",
   "metadata": {},
   "source": [
    "# database, with database schema change (0.90)\n",
    "\n",
    "- [X] Show db.Column changes you have made to model/python file in Visual Studio Code\n",
    "![image](https://github.com/KinetekEnergy/blog/assets/79232996/dedd289a-6822-43a3-a639-e77cd59be590)\n",
    "- [X] Show initialization data code in VSCode\n",
    "![image](https://github.com/KinetekEnergy/blog/assets/79232996/dd1c9783-a92e-4253-9916-d60b343cda02)\n",
    "- [X] Demo delete database and run ./migrate.sh\n",
    "![image](https://github.com/KinetekEnergy/blog/assets/79232996/56d7ef99-f66f-4ff2-b50c-50c85e2537a0)\n",
    "- [X] Demo corresponding schema change in SQLite3\n",
    "![image](https://github.com/KinetekEnergy/blog/assets/79232996/c71bb76a-9514-463d-968a-8b31f8e99989)\n",
    "- [X] Demo initialization data captured in Column in SQLite3"
   ]
  },
  {
   "cell_type": "markdown",
   "metadata": {},
   "source": [
    "# postman with /authentication screen (0.91)\n",
    "\n",
    "- [X] Show /authenticate endpoint code in Visual Studio Code\n",
    "![image](https://github.com/KinetekEnergy/blog/assets/79232996/80335f7a-59d7-458c-8c62-323ac5484b44)\n",
    "- [X] Show and Demo /authenticate in Postman…\n",
    "![image](https://github.com/KinetekEnergy/blog/assets/79232996/f0644992-7e0b-48a7-8a41-1e6539cf1166)\n",
    "  - [X] Demo calling to endpoint\n",
    "  - [X] Show JSON data passed in call\n",
    "  - [X] Show Response window\n",
    "![image](https://github.com/KinetekEnergy/blog/assets/79232996/ac03cab0-78a3-489d-9232-1f2a368a22a7)\n",
    "  - [X] Show Cookie acquired window\n",
    "![image](https://github.com/KinetekEnergy/blog/assets/79232996/37ff3069-3af8-402c-8e78-638538606161)\n",
    "  - [X] Cut/Copy/Paste Cookie into[ jwt.io](https://jwt.io/) and show decrypting payload\n",
    "![image](https://github.com/KinetekEnergy/blog/assets/79232996/2fc55228-0f71-4154-962b-cf90554bd904)"
   ]
  },
  {
   "cell_type": "markdown",
   "metadata": {},
   "source": [
    "# postman with /api screen to access data under authentication (0.92)\n",
    "\n",
    "- [x] Show /api CRUD code in Visual Studio Code, expecting READ/GET code\n",
    "- [X] Show and Demo /api READ/GET endpoint in Postman…\n",
    "![image](https://github.com/KinetekEnergy/blog/assets/79232996/cac56b20-7080-4dc2-8d58-e3bf2555e2fd)\n",
    "  - [X] Demo calling to endpoint that requires Cookie\n",
    "![image](https://github.com/KinetekEnergy/blog/assets/79232996/8801239b-d739-4932-9f0d-61e1456d8297)\n",
    "  - [X] Show Response/Data\n",
    "  - [X] Demo Deleting cookie\n",
    "![image](https://github.com/KinetekEnergy/blog/assets/79232996/e0f9a45e-0848-4901-b5a9-c28b2487516f)\n",
    "  - [X] Demo calling endpoint again\n",
    "  - [X] Show Response/Failure\n",
    "![image](https://github.com/KinetekEnergy/blog/assets/79232996/2f653933-fd84-413d-9934-bd37ffd92382)\n"
   ]
  },
  {
   "cell_type": "markdown",
   "metadata": {},
   "source": [
    "## CSP Spot Check 2 (login, roles, CRUD) "
   ]
  },
  {
   "cell_type": "markdown",
   "metadata": {},
   "source": [
    "- [X] Aashray Reddy\n",
    "- [X] Q1 = 0.9 Q2 = 0.9 Q3 = 0.91\n",
    "- [X] Q1 + Q2 + Q3 = 2/2"
   ]
  },
  {
   "cell_type": "markdown",
   "metadata": {},
   "source": [
    "# jupyter notebook or web page that shows signup and login, focus on login (0.90)\n",
    "\n",
    "- [X] Show HTML and JavaScript to support Login/Signup in VSCode …\n",
    "SEE BELOW\n",
    "- [X] Show HTML that support Login/Signup\n",
    "LOGIN:\n",
    "![image](https://github.com/KinetekEnergy/blog/assets/79232996/db816f60-522e-4cc0-af66-efe1c32d10ab)\n",
    "![image](https://github.com/KinetekEnergy/blog/assets/79232996/8b5e9cd8-2a6a-4e9f-a419-a0f81ade9c1e)\n",
    "\n",
    "SIGNUP:\n",
    "![image](https://github.com/KinetekEnergy/blog/assets/79232996/b2851c92-7f18-4d49-b0e9-959641bfca4d)\n",
    "![image](https://github.com/KinetekEnergy/blog/assets/79232996/06bdb01b-228c-4fbf-955f-74d9d3f36d6a)\n",
    "- [X] Show Style that supports Login/Signup formatting\n",
    "BOTH:\n",
    "![image](https://github.com/KinetekEnergy/blog/assets/79232996/7f0e6bfe-4dc6-478a-aa8c-07620df0b289)\n",
    "- [X] Show JavaScript code that performs Fetch\n",
    "LOGIN:\n",
    "![image](https://github.com/KinetekEnergy/blog/assets/79232996/8b5e9cd8-2a6a-4e9f-a419-a0f81ade9c1e)\n",
    "\n",
    "SIGNUP:\n",
    "![image](https://github.com/KinetekEnergy/blog/assets/79232996/06bdb01b-228c-4fbf-955f-74d9d3f36d6a)\n",
    "- [X] In Browser/Jupyter demo …\n",
    "SEE BELOW\n",
    "- [X] Demo Login success\n",
    "![image](https://github.com/KinetekEnergy/blog/assets/79232996/545e483f-b440-4f29-90e9-7ed3da92cc4d)\n",
    "- [X] Demo Login failure\n",
    "![image](https://github.com/KinetekEnergy/blog/assets/79232996/65053510-7bfb-4ea3-9198-bbda94b1c307)"
   ]
  },
  {
   "cell_type": "markdown",
   "metadata": {},
   "source": [
    "# jupyter notebook or web page that shows redirect or 403 error as result of signup and login page, focus on redirect to data/table display or failure (0.9)\n",
    "\n",
    "- [X] Show HTML and JavaScript to support Login/Signup failure VSCode …\n",
    "SEE BELOW\n",
    "- [X] Show JavaScript that performs Fetch\n",
    "![image](https://github.com/KinetekEnergy/blog/assets/79232996/441e6d1e-07ff-45f9-8f96-658c31b75da4)\n",
    "- [X] Show code that redirects to page on success\n",
    "![image](https://github.com/KinetekEnergy/blog/assets/79232996/d01664b4-9afe-445f-9f7b-b4c3ecb4e0ff)\n",
    "- [X] Show code that shows implementation of roles\n",
    "![image](https://github.com/KinetekEnergy/blog/assets/79232996/5bb311aa-30f6-4731-85ea-6a4a35720a54)\n",
    "![image](https://github.com/KinetekEnergy/blog/assets/79232996/212995cc-ba3a-4a27-85f0-27ec0dfcc09e)\n",
    "- [X] Show code that captures error handling on 403\n",
    "![image](https://github.com/KinetekEnergy/blog/assets/79232996/2989f8f7-bebe-4744-a5d7-86019227d945)\n",
    "- [X] In Browser/Jupyter demo …\n",
    "SEE BELOW\n",
    "- [X] Demo Login success redirecting to table/data page\n",
    "![image](https://github.com/KinetekEnergy/blog/assets/79232996/e71f5188-aab0-4988-9499-b2ba8e34a1a9)\n",
    "- [X] Show in split screen, login success with cookie on redirected page\n",
    "![image](https://github.com/KinetekEnergy/blog/assets/79232996/c106bd95-5a14-4b44-afc5-e298fd3f44f2)\n",
    "- [X] Demo Login success to a page that requires advanced role\n",
    "![image](https://github.com/KinetekEnergy/blog/assets/79232996/c6528d2a-e97e-4048-ab5c-7ec39a8acc6e)\n",
    "- [X] Demo Login failure related in insufficient role\n",
    "![image](https://github.com/KinetekEnergy/blog/assets/79232996/c481db43-c994-4a6e-9426-6d488375c5ee)"
   ]
  },
  {
   "cell_type": "markdown",
   "metadata": {},
   "source": [
    "# jupyter notebook that shows CRUD operation on page that requires authentication, or this can include signup without authentication (0.91)\n",
    "\n",
    "- [X] Show in VSCode HTML and JavaScript to support Post, Put or Delete method\n",
    "SEE BELOW\n",
    "- [X] Show JavaScript that performs Fetch\n",
    "![image](https://github.com/KinetekEnergy/blog/assets/79232996/b9602515-09b3-42b6-9496-962179fd439c)\n",
    "- [X] Show JavaScript code that handles Response and formats data\n",
    "![image](https://github.com/KinetekEnergy/blog/assets/79232996/51bcbac7-60d9-49eb-b786-625f0a30e0ca)\n",
    "- [X] Show code that supports HTML, HTML generation, and Style\n",
    "![image](https://github.com/KinetekEnergy/blog/assets/79232996/dd6f14a0-2fda-4c25-9986-1499d939905a)\n",
    "Popup windows have their display changed when called by the function to the corresponding error\n",
    "- [X] In Browser/Jupyter demo …\n",
    "SEE BELOW\n",
    "- [X] Demo Fetch Action for Create/Post\n",
    "![image](https://github.com/KinetekEnergy/blog/assets/79232996/52df8e5a-33b7-4747-891a-77efef7f6c08)\n",
    "- [X] Demo Fetch Action for Update/Put\n",
    "![image](https://github.com/KinetekEnergy/blog/assets/79232996/0355c66d-6fcd-4030-a106-646582f48ab0)\n",
    "- [X] Demo Fetch Action for Delete\n",
    "![image](https://github.com/KinetekEnergy/blog/assets/79232996/476f84c2-0d48-4ef8-b064-fb675b344ca1)\n",
    "- [X] In SQLite demo …\n",
    "SEE BELOW\n",
    "- [X] Demo Data Before each Fetch Action\n",
    "![image](https://github.com/KinetekEnergy/blog/assets/79232996/896f7a14-0616-4216-ab6e-c3147b2285e8)\n",
    "- [X] Demo Data After each Fetch Action\n",
    "![image](https://github.com/KinetekEnergy/blog/assets/79232996/8e381190-4219-4d1a-a0f3-586ef3aafdcc)"
   ]
  }
 ],
 "metadata": {
  "language_info": {
   "name": "python"
  }
 },
 "nbformat": 4,
 "nbformat_minor": 2
}
